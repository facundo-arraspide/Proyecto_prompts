{
 "cells": [
  {
   "cell_type": "markdown",
   "id": "a485632a",
   "metadata": {},
   "source": [
    "# IA Personal Trainer – POC\n",
    "\n",
    "Este notebook muestra una **prueba de concepto (POC)** del proyecto *IA Personal Trainer*, utilizando **fast prompting** en un entorno de texto a texto.\n",
    "\n",
    "El objetivo es generar rutinas de entrenamiento personalizadas a través de prompts optimizados."
   ]
  },
  {
   "cell_type": "markdown",
   "id": "4c5670c6",
   "metadata": {},
   "source": [
    "## Ejemplo 1 – Prompt básico"
   ]
  },
  {
   "cell_type": "code",
   "execution_count": null,
   "id": "a42c6b2a",
   "metadata": {},
   "outputs": [],
   "source": [
    "## Prompt simple\n",
    "prompt = \"Genera una rutina de 20 minutos para perder grasa en casa.\"\n",
    "\n",
    "## Simulación de respuesta del modelo\n",
    "respuesta = '''\n",
    "Rutina de 20 minutos para perder grasa en casa:\n",
    "1. Jumping jacks - 3 min\n",
    "2. Sentadillas - 3x15\n",
    "3. Abdominales - 3x20\n",
    "4. Zancadas - 3x12 por pierna\n",
    "5. Plancha - 3x40 segundos\n",
    "6. Estiramientos finales - 5 min\n",
    "'''\n",
    "print(respuesta)"
   ]
  },
  {
   "cell_type": "markdown",
   "id": "ceba4536",
   "metadata": {},
   "source": [
    "## Ejemplo 2 – Prompt optimizado con Fast Prompting"
   ]
  },
  {
   "cell_type": "code",
   "execution_count": null,
   "id": "6540013b",
   "metadata": {},
   "outputs": [],
   "source": [
    "## Prompt optimizado con rol, contexto y formato de salida\n",
    "prompt = \"\"\"\n",
    "Actúa como entrenador personal experto en rutinas cortas para principiantes.\n",
    "Genera una rutina de 20 minutos para alguien que quiere perder grasa,\n",
    "sin saltos ni equipamiento, adaptada al invierno en Uruguay.\n",
    "Presenta la rutina en pasos numerados, incluyendo tiempo de cada ejercicio\n",
    "y una nota de motivación al final.\n",
    "\"\"\"\n",
    "\n",
    "## Simulación de respuesta del modelo\n",
    "respuesta = '''\n",
    "Rutina de 20 minutos (sin saltos, sin equipamiento):\n",
    "\n",
    "1. Calentamiento: Movilidad articular (2 min)\n",
    "2. Sentadillas lentas - 3x12 (3 min)\n",
    "3. Plancha con apoyo de rodillas - 3x30 seg (3 min)\n",
    "4. Glute bridge (puente de glúteos) - 3x15 (3 min)\n",
    "5. Abdominales isométricos - 3x20 seg (3 min)\n",
    "6. Estiramiento suave de piernas y espalda (6 min)\n",
    "\n",
    "💡 Consejo: La constancia es más importante que la intensidad.\n",
    "Entrena poco pero seguido, y verás grandes resultados.\n",
    "'''\n",
    "print(respuesta)"
   ]
  },
  {
   "cell_type": "markdown",
   "id": "975a1850",
   "metadata": {},
   "source": [
    "## Comparación de resultados\n",
    "\n",
    "- El **prompt básico** genera una rutina genérica, poco adaptada.\n",
    "- El **prompt optimizado con fast prompting** da una rutina más clara, adaptada al contexto (invierno, sin saltos), con formato estructurado y motivación final.\n",
    "\n",
    "Esto demuestra el poder del fast prompting."
   ]
  }
 ],
 "metadata": {},
 "nbformat": 4,
 "nbformat_minor": 5
}
